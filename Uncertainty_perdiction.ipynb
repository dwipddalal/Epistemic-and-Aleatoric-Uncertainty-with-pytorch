{
  "nbformat": 4,
  "nbformat_minor": 0,
  "metadata": {
    "colab": {
      "name": "Uncertainty perdiction[regression].ipynb",
      "provenance": []
    },
    "kernelspec": {
      "name": "python3",
      "display_name": "Python 3"
    },
    "language_info": {
      "name": "python"
    }
  },
  "cells": [
    {
      "cell_type": "markdown",
      "source": [
        "## Importing necessary libraries "
      ],
      "metadata": {
        "id": "BkSGAbg3YZm_"
      }
    },
    {
      "cell_type": "code",
      "source": [
        "import sklearn \n",
        "import numpy as np                  \n",
        "import matplotlib.pyplot as plt   \n",
        "import pandas as pd   \n",
        "import os\n",
        "import seaborn as sns\n",
        "\n",
        "import torch\n",
        "import torch.nn.functional as F #function such as activation,etc\n",
        "from torch import nn \n",
        "from torch.utils.data import DataLoader, TensorDataset\n",
        "\n",
        "from sklearn.preprocessing import MinMaxScaler\n",
        "from sklearn.metrics import mean_absolute_error\n",
        "from functools import partial\n",
        "from scipy import stats, interpolate\n",
        "\n",
        "# %load_ext autoreload\n",
        "# %autoreload 2"
      ],
      "metadata": {
        "id": "OZsswX0Icrxw"
      },
      "execution_count": 21,
      "outputs": []
    },
    {
      "cell_type": "markdown",
      "source": [
        "## Loading the dataset"
      ],
      "metadata": {
        "id": "xexfcAg_Y2rc"
      }
    },
    {
      "cell_type": "code",
      "source": [
        "data = pd.read_csv('https://raw.githubusercontent.com/dwipddalal/Epistemic-and-Aleatoric-Uncertainty-with-pytorch/main/credit_card_Dataset.csv')\n",
        "data.head()"
      ],
      "metadata": {
        "colab": {
          "base_uri": "https://localhost:8080/",
          "height": 305
        },
        "id": "5tPqtBmiXBzY",
        "outputId": "0520519b-f3ca-4688-a463-a1f35809e077"
      },
      "execution_count": 22,
      "outputs": [
        {
          "output_type": "execute_result",
          "data": {
            "text/plain": [
              "  customer_id            name  age gender owns_car owns_house  no_of_children  \\\n",
              "0  CST_115179        ita Bose   46      F        N          Y             0.0   \n",
              "1  CST_121920  Alper Jonathan   29      M        N          Y             0.0   \n",
              "2  CST_109330     Umesh Desai   37      M        N          Y             0.0   \n",
              "3  CST_128288             Rie   39      F        N          Y             0.0   \n",
              "4  CST_151355          McCool   46      M        Y          Y             0.0   \n",
              "\n",
              "   net_yearly_income  no_of_days_employed occupation_type  \\\n",
              "0          107934.04                612.0         Unknown   \n",
              "1          109862.62               2771.0        Laborers   \n",
              "2          230153.17                204.0        Laborers   \n",
              "3          122325.82              11941.0      Core staff   \n",
              "4          387286.00               1459.0      Core staff   \n",
              "\n",
              "   total_family_members  migrant_worker  yearly_debt_payments  credit_limit  \\\n",
              "0                   1.0             1.0              33070.28      18690.93   \n",
              "1                   2.0             0.0              15329.53      37745.19   \n",
              "2                   2.0             0.0              48416.60      41598.36   \n",
              "3                   2.0             0.0              22574.36      32627.76   \n",
              "4                   1.0             0.0              38282.95      52950.64   \n",
              "\n",
              "   credit_limit_used(%)  credit_score  prev_defaults  default_in_last_6months  \\\n",
              "0                    73         544.0              2                        1   \n",
              "1                    52         857.0              0                        0   \n",
              "2                    43         650.0              0                        0   \n",
              "3                    20         754.0              0                        0   \n",
              "4                    75         927.0              0                        0   \n",
              "\n",
              "   credit_card_default  \n",
              "0                    1  \n",
              "1                    0  \n",
              "2                    0  \n",
              "3                    0  \n",
              "4                    0  "
            ],
            "text/html": [
              "\n",
              "  <div id=\"df-bbe200d9-8f24-4db6-9812-3423b20891f0\">\n",
              "    <div class=\"colab-df-container\">\n",
              "      <div>\n",
              "<style scoped>\n",
              "    .dataframe tbody tr th:only-of-type {\n",
              "        vertical-align: middle;\n",
              "    }\n",
              "\n",
              "    .dataframe tbody tr th {\n",
              "        vertical-align: top;\n",
              "    }\n",
              "\n",
              "    .dataframe thead th {\n",
              "        text-align: right;\n",
              "    }\n",
              "</style>\n",
              "<table border=\"1\" class=\"dataframe\">\n",
              "  <thead>\n",
              "    <tr style=\"text-align: right;\">\n",
              "      <th></th>\n",
              "      <th>customer_id</th>\n",
              "      <th>name</th>\n",
              "      <th>age</th>\n",
              "      <th>gender</th>\n",
              "      <th>owns_car</th>\n",
              "      <th>owns_house</th>\n",
              "      <th>no_of_children</th>\n",
              "      <th>net_yearly_income</th>\n",
              "      <th>no_of_days_employed</th>\n",
              "      <th>occupation_type</th>\n",
              "      <th>total_family_members</th>\n",
              "      <th>migrant_worker</th>\n",
              "      <th>yearly_debt_payments</th>\n",
              "      <th>credit_limit</th>\n",
              "      <th>credit_limit_used(%)</th>\n",
              "      <th>credit_score</th>\n",
              "      <th>prev_defaults</th>\n",
              "      <th>default_in_last_6months</th>\n",
              "      <th>credit_card_default</th>\n",
              "    </tr>\n",
              "  </thead>\n",
              "  <tbody>\n",
              "    <tr>\n",
              "      <th>0</th>\n",
              "      <td>CST_115179</td>\n",
              "      <td>ita Bose</td>\n",
              "      <td>46</td>\n",
              "      <td>F</td>\n",
              "      <td>N</td>\n",
              "      <td>Y</td>\n",
              "      <td>0.0</td>\n",
              "      <td>107934.04</td>\n",
              "      <td>612.0</td>\n",
              "      <td>Unknown</td>\n",
              "      <td>1.0</td>\n",
              "      <td>1.0</td>\n",
              "      <td>33070.28</td>\n",
              "      <td>18690.93</td>\n",
              "      <td>73</td>\n",
              "      <td>544.0</td>\n",
              "      <td>2</td>\n",
              "      <td>1</td>\n",
              "      <td>1</td>\n",
              "    </tr>\n",
              "    <tr>\n",
              "      <th>1</th>\n",
              "      <td>CST_121920</td>\n",
              "      <td>Alper Jonathan</td>\n",
              "      <td>29</td>\n",
              "      <td>M</td>\n",
              "      <td>N</td>\n",
              "      <td>Y</td>\n",
              "      <td>0.0</td>\n",
              "      <td>109862.62</td>\n",
              "      <td>2771.0</td>\n",
              "      <td>Laborers</td>\n",
              "      <td>2.0</td>\n",
              "      <td>0.0</td>\n",
              "      <td>15329.53</td>\n",
              "      <td>37745.19</td>\n",
              "      <td>52</td>\n",
              "      <td>857.0</td>\n",
              "      <td>0</td>\n",
              "      <td>0</td>\n",
              "      <td>0</td>\n",
              "    </tr>\n",
              "    <tr>\n",
              "      <th>2</th>\n",
              "      <td>CST_109330</td>\n",
              "      <td>Umesh Desai</td>\n",
              "      <td>37</td>\n",
              "      <td>M</td>\n",
              "      <td>N</td>\n",
              "      <td>Y</td>\n",
              "      <td>0.0</td>\n",
              "      <td>230153.17</td>\n",
              "      <td>204.0</td>\n",
              "      <td>Laborers</td>\n",
              "      <td>2.0</td>\n",
              "      <td>0.0</td>\n",
              "      <td>48416.60</td>\n",
              "      <td>41598.36</td>\n",
              "      <td>43</td>\n",
              "      <td>650.0</td>\n",
              "      <td>0</td>\n",
              "      <td>0</td>\n",
              "      <td>0</td>\n",
              "    </tr>\n",
              "    <tr>\n",
              "      <th>3</th>\n",
              "      <td>CST_128288</td>\n",
              "      <td>Rie</td>\n",
              "      <td>39</td>\n",
              "      <td>F</td>\n",
              "      <td>N</td>\n",
              "      <td>Y</td>\n",
              "      <td>0.0</td>\n",
              "      <td>122325.82</td>\n",
              "      <td>11941.0</td>\n",
              "      <td>Core staff</td>\n",
              "      <td>2.0</td>\n",
              "      <td>0.0</td>\n",
              "      <td>22574.36</td>\n",
              "      <td>32627.76</td>\n",
              "      <td>20</td>\n",
              "      <td>754.0</td>\n",
              "      <td>0</td>\n",
              "      <td>0</td>\n",
              "      <td>0</td>\n",
              "    </tr>\n",
              "    <tr>\n",
              "      <th>4</th>\n",
              "      <td>CST_151355</td>\n",
              "      <td>McCool</td>\n",
              "      <td>46</td>\n",
              "      <td>M</td>\n",
              "      <td>Y</td>\n",
              "      <td>Y</td>\n",
              "      <td>0.0</td>\n",
              "      <td>387286.00</td>\n",
              "      <td>1459.0</td>\n",
              "      <td>Core staff</td>\n",
              "      <td>1.0</td>\n",
              "      <td>0.0</td>\n",
              "      <td>38282.95</td>\n",
              "      <td>52950.64</td>\n",
              "      <td>75</td>\n",
              "      <td>927.0</td>\n",
              "      <td>0</td>\n",
              "      <td>0</td>\n",
              "      <td>0</td>\n",
              "    </tr>\n",
              "  </tbody>\n",
              "</table>\n",
              "</div>\n",
              "      <button class=\"colab-df-convert\" onclick=\"convertToInteractive('df-bbe200d9-8f24-4db6-9812-3423b20891f0')\"\n",
              "              title=\"Convert this dataframe to an interactive table.\"\n",
              "              style=\"display:none;\">\n",
              "        \n",
              "  <svg xmlns=\"http://www.w3.org/2000/svg\" height=\"24px\"viewBox=\"0 0 24 24\"\n",
              "       width=\"24px\">\n",
              "    <path d=\"M0 0h24v24H0V0z\" fill=\"none\"/>\n",
              "    <path d=\"M18.56 5.44l.94 2.06.94-2.06 2.06-.94-2.06-.94-.94-2.06-.94 2.06-2.06.94zm-11 1L8.5 8.5l.94-2.06 2.06-.94-2.06-.94L8.5 2.5l-.94 2.06-2.06.94zm10 10l.94 2.06.94-2.06 2.06-.94-2.06-.94-.94-2.06-.94 2.06-2.06.94z\"/><path d=\"M17.41 7.96l-1.37-1.37c-.4-.4-.92-.59-1.43-.59-.52 0-1.04.2-1.43.59L10.3 9.45l-7.72 7.72c-.78.78-.78 2.05 0 2.83L4 21.41c.39.39.9.59 1.41.59.51 0 1.02-.2 1.41-.59l7.78-7.78 2.81-2.81c.8-.78.8-2.07 0-2.86zM5.41 20L4 18.59l7.72-7.72 1.47 1.35L5.41 20z\"/>\n",
              "  </svg>\n",
              "      </button>\n",
              "      \n",
              "  <style>\n",
              "    .colab-df-container {\n",
              "      display:flex;\n",
              "      flex-wrap:wrap;\n",
              "      gap: 12px;\n",
              "    }\n",
              "\n",
              "    .colab-df-convert {\n",
              "      background-color: #E8F0FE;\n",
              "      border: none;\n",
              "      border-radius: 50%;\n",
              "      cursor: pointer;\n",
              "      display: none;\n",
              "      fill: #1967D2;\n",
              "      height: 32px;\n",
              "      padding: 0 0 0 0;\n",
              "      width: 32px;\n",
              "    }\n",
              "\n",
              "    .colab-df-convert:hover {\n",
              "      background-color: #E2EBFA;\n",
              "      box-shadow: 0px 1px 2px rgba(60, 64, 67, 0.3), 0px 1px 3px 1px rgba(60, 64, 67, 0.15);\n",
              "      fill: #174EA6;\n",
              "    }\n",
              "\n",
              "    [theme=dark] .colab-df-convert {\n",
              "      background-color: #3B4455;\n",
              "      fill: #D2E3FC;\n",
              "    }\n",
              "\n",
              "    [theme=dark] .colab-df-convert:hover {\n",
              "      background-color: #434B5C;\n",
              "      box-shadow: 0px 1px 3px 1px rgba(0, 0, 0, 0.15);\n",
              "      filter: drop-shadow(0px 1px 2px rgba(0, 0, 0, 0.3));\n",
              "      fill: #FFFFFF;\n",
              "    }\n",
              "  </style>\n",
              "\n",
              "      <script>\n",
              "        const buttonEl =\n",
              "          document.querySelector('#df-bbe200d9-8f24-4db6-9812-3423b20891f0 button.colab-df-convert');\n",
              "        buttonEl.style.display =\n",
              "          google.colab.kernel.accessAllowed ? 'block' : 'none';\n",
              "\n",
              "        async function convertToInteractive(key) {\n",
              "          const element = document.querySelector('#df-bbe200d9-8f24-4db6-9812-3423b20891f0');\n",
              "          const dataTable =\n",
              "            await google.colab.kernel.invokeFunction('convertToInteractive',\n",
              "                                                     [key], {});\n",
              "          if (!dataTable) return;\n",
              "\n",
              "          const docLinkHtml = 'Like what you see? Visit the ' +\n",
              "            '<a target=\"_blank\" href=https://colab.research.google.com/notebooks/data_table.ipynb>data table notebook</a>'\n",
              "            + ' to learn more about interactive tables.';\n",
              "          element.innerHTML = '';\n",
              "          dataTable['output_type'] = 'display_data';\n",
              "          await google.colab.output.renderOutput(dataTable, element);\n",
              "          const docLink = document.createElement('div');\n",
              "          docLink.innerHTML = docLinkHtml;\n",
              "          element.appendChild(docLink);\n",
              "        }\n",
              "      </script>\n",
              "    </div>\n",
              "  </div>\n",
              "  "
            ]
          },
          "metadata": {},
          "execution_count": 22
        }
      ]
    },
    {
      "cell_type": "markdown",
      "source": [
        "### In this case we shall be working on find the relationship between credit card limit and the net yearly imcome of a person. Also we shall calculate the errors in the prediction of the model"
      ],
      "metadata": {
        "id": "Waqd0SqPZAa4"
      }
    },
    {
      "cell_type": "code",
      "source": [
        "X = data['net_yearly_income']\n",
        "y = data['credit_limit']"
      ],
      "metadata": {
        "id": "Ba4WR_YuZOLT"
      },
      "execution_count": 23,
      "outputs": []
    },
    {
      "cell_type": "code",
      "source": [
        "from sklearn.model_selection import train_test_split\n",
        "x, x_test, y, y_test = train_test_split(X[:20000], y[:20000], test_size=0.2, random_state=42)"
      ],
      "metadata": {
        "id": "I3aUuINkewVu"
      },
      "execution_count": 24,
      "outputs": []
    },
    {
      "cell_type": "code",
      "source": [
        "x = x.values.reshape(-1,1)\n",
        "x_test = x_test.values.reshape(-1, 1)\n",
        "y_test = y_test.values.reshape(-1, 1)\n",
        "y = y.values.reshape(-1, 1)"
      ],
      "metadata": {
        "id": "S4HyeTnKfqHU"
      },
      "execution_count": 25,
      "outputs": []
    },
    {
      "cell_type": "code",
      "source": [
        "x_test.shape"
      ],
      "metadata": {
        "colab": {
          "base_uri": "https://localhost:8080/"
        },
        "id": "XUuto-7oh9Th",
        "outputId": "ccdce163-fda5-43d1-903f-08ffc24e34dc"
      },
      "execution_count": 26,
      "outputs": [
        {
          "output_type": "execute_result",
          "data": {
            "text/plain": [
              "(4000, 1)"
            ]
          },
          "metadata": {},
          "execution_count": 26
        }
      ]
    },
    {
      "cell_type": "code",
      "source": [
        "mmsx = MinMaxScaler().fit(x)\n",
        "x, x_test = mmsx.transform(x), mmsx.transform(x_test)\n",
        "\n",
        "mmsy = MinMaxScaler().fit(y)\n",
        "y, y_test = mmsy.transform(y), mmsy.transform(y_test)"
      ],
      "metadata": {
        "id": "1YCo5sBOfiQp"
      },
      "execution_count": 27,
      "outputs": []
    },
    {
      "cell_type": "markdown",
      "source": [
        "### Creating the Model architecture "
      ],
      "metadata": {
        "id": "qiKApeZdmusz"
      }
    },
    {
      "cell_type": "code",
      "execution_count": 28,
      "metadata": {
        "id": "EpbRwndIEOhK"
      },
      "outputs": [],
      "source": [
        "class HeteroscedasticDropoutNet(nn.Module):\n",
        "    def __init__(self, params):\n",
        "        super().__init__() # this calls the intialization of the nn module method.\n",
        "        self.model_ = nn.Sequential(\n",
        "            nn.Linear(params['input_size'], params['hidden_size']), # params hidden_Size gives number of hidden nodes to the network\n",
        "            nn.Dropout(params['dropout_p']),\n",
        "            nn.Linear(params['hidden_size'], params['hidden_size_2']), # params hidden_Size gives number of hidden nodes to the network\n",
        "            nn.Dropout(params['dropout_p_2']),\n",
        "            nn.Linear(params['hidden_size_2'], params['output_size'])\n",
        "        )\n",
        "        self.optim_ = torch.optim.Adam(\n",
        "            self.model_.parameters(), \n",
        "            lr=params['lr']\n",
        "        )\n",
        "    \n",
        "    def forward(self, X):\n",
        "        X = X.view(X.size(0), -1) # converts [128,1] to [128]\n",
        "        return self.model_(X)\n",
        "        \n",
        "    \n",
        "    def mc_predict(self, X, samples=4000):\n",
        "        X = X.view(X.size(0), -1)\n",
        "        with torch.no_grad():\n",
        "            self.model_.train()\n",
        "            preds = torch.stack([self.model_(X) for _ in range(samples)], dim=-1) # runs the model for 4000 times and stack the predicted output\n",
        "        return preds\n"
      ]
    },
    {
      "cell_type": "code",
      "source": [
        "params = {\n",
        "    'input_size': 1,\n",
        "    'output_size': 1,\n",
        "    'hidden_size': 156,\n",
        "    'hidden_size_2': 64,\n",
        "    'dropout_p': 0.4,\n",
        "    'dropout_p_2': 0.2,\n",
        "    'batch_size': 64,\n",
        "    'epochs': 230,\n",
        "    'lr': 1e-4,\n",
        "}\n",
        "model = HeteroscedasticDropoutNet(params)"
      ],
      "metadata": {
        "id": "7oJjLtiUui8T"
      },
      "execution_count": 29,
      "outputs": []
    },
    {
      "cell_type": "code",
      "source": [
        "x_train, y_train = torch.tensor(x, dtype=torch.float32), torch.tensor(y, dtype=torch.float32) # have to convert the dataset to tensor before passing it in the torch \n",
        "x_val, y_val = torch.tensor(x_test, dtype=torch.float32), torch.tensor(y_test, dtype=torch.float32)\n",
        "train_ds = TensorDataset(x_train, y_train)\n",
        "train_dl = DataLoader(train_ds, params['batch_size'], shuffle=True)"
      ],
      "metadata": {
        "id": "u2Wi2u_Vv0Ul"
      },
      "execution_count": 30,
      "outputs": []
    },
    {
      "cell_type": "markdown",
      "source": [
        "### Defining the Loss Function"
      ],
      "metadata": {
        "id": "4N9FjWmwqu51"
      }
    },
    {
      "cell_type": "code",
      "source": [
        "def gaussian_nll_loss(output, target):\n",
        "    mu, sigma = output[:, :1], torch.exp(output[:, 0])\n",
        "    dist = torch.distributions.Normal(mu, sigma)\n",
        "    # print(target)\n",
        "    loss = -dist.log_prob(target)\n",
        "    # print(loss)\n",
        "    return loss.sum()\n",
        "criterion = gaussian_nll_loss"
      ],
      "metadata": {
        "id": "dbtUIFpRugRz"
      },
      "execution_count": 31,
      "outputs": []
    },
    {
      "cell_type": "markdown",
      "source": [
        "### Training"
      ],
      "metadata": {
        "id": "hst79IdMqyFs"
      }
    },
    {
      "cell_type": "code",
      "source": [
        "for epoch in range(params['epochs']):\n",
        "    for x_batch, y_batch in train_dl:\n",
        "        model.train()\n",
        "        output = model(x_batch)\n",
        "        # y_batch = y_batch.view(y_batch.shape[0], 1) \n",
        "        loss = criterion(output, y_batch)\n",
        "\n",
        "        loss.backward()\n",
        "        model.optim_.step()\n",
        "        model.optim_.zero_grad()\n",
        "    \n",
        "    if epoch % 10 == 0:\n",
        "        model.eval()\n",
        "        with torch.no_grad():\n",
        "            output_train = model(x_train)\n",
        "            mean_train = mean_absolute_error(y_train, output_train[:, :1])\n",
        "            # y_train = y_train.view(y_train.shape[0],1)\n",
        "            train_loss = criterion(output_train, y_train)\n",
        "            output_val = model(x_val)\n",
        "            mean_val = mean_absolute_error(y_val, output_val[:, :1])\n",
        "            # y_val = y_val.view(y_val.shape[0],1)\n",
        "            val_loss = criterion(output_val, y_val)\n",
        "    \n",
        "        print(f\"Epoch: {epoch} \\t MAE train: {mean_train:.5f} \\t MAE val: {mean_val:.5f}\")"
      ],
      "metadata": {
        "id": "Olmt8XInul7H"
      },
      "execution_count": null,
      "outputs": []
    },
    {
      "cell_type": "code",
      "source": [
        "x_train.shape"
      ],
      "metadata": {
        "colab": {
          "base_uri": "https://localhost:8080/"
        },
        "id": "w8jecIxvmftF",
        "outputId": "35753aeb-c92f-40fe-dda0-1c06b71b8e7f"
      },
      "execution_count": 13,
      "outputs": [
        {
          "output_type": "execute_result",
          "data": {
            "text/plain": [
              "torch.Size([20000, 1])"
            ]
          },
          "metadata": {},
          "execution_count": 13
        }
      ]
    },
    {
      "cell_type": "code",
      "source": [
        "preds_train = model.mc_predict(x_train, samples=4000).numpy()\n",
        "preds_val = model.mc_predict(x_val, samples=4000).numpy()"
      ],
      "metadata": {
        "id": "NuYAdfDl01NS"
      },
      "execution_count": 14,
      "outputs": []
    },
    {
      "cell_type": "code",
      "source": [
        "si_train = x_train.argsort(dim=0).flatten()\n",
        "train_x_, train_y_hat = x_train[si_train].numpy(), preds_train[si_train, :, :]\n",
        "train_y_ = y_train[si_train].numpy()\n",
        "\n",
        "si_val = x_val.argsort(dim=0).flatten()\n",
        "val_x_, val_y_hat = x_val[si_val].numpy(), preds_val[si_val, :, :]\n",
        "val_y_ = y_val[si_val].numpy()"
      ],
      "metadata": {
        "id": "057JbAYvTtqu"
      },
      "execution_count": 15,
      "outputs": []
    },
    {
      "cell_type": "code",
      "source": [
        "print(train_y_hat.shape)"
      ],
      "metadata": {
        "colab": {
          "base_uri": "https://localhost:8080/"
        },
        "id": "dMQz2Wb7jtSr",
        "outputId": "32550929-7bca-487b-8b63-43b22ec896e0"
      },
      "execution_count": 16,
      "outputs": [
        {
          "output_type": "stream",
          "name": "stdout",
          "text": [
            "(20000, 1, 4000)\n"
          ]
        }
      ]
    },
    {
      "cell_type": "code",
      "source": [
        "def postprocess_samples(samples):\n",
        "    mus = np.mean(samples[:, 0, :], axis=-1)\n",
        "    print(mus.shape)\n",
        "    sigmas = np.mean(np.exp(samples[:, 0, :]), axis=-1)\n",
        "    return mus, sigmas"
      ],
      "metadata": {
        "id": "8Lj3ropJ06d2"
      },
      "execution_count": 17,
      "outputs": []
    },
    {
      "cell_type": "code",
      "source": [
        "pred_mu_train, pred_sigma_train = postprocess_samples(train_y_hat)\n",
        "pred_mu_val, pred_sigma_val = postprocess_samples(val_y_hat)"
      ],
      "metadata": {
        "colab": {
          "base_uri": "https://localhost:8080/"
        },
        "id": "cE7gJoRTjsSs",
        "outputId": "54303389-2fce-474e-8ab4-de638898edbd"
      },
      "execution_count": 18,
      "outputs": [
        {
          "output_type": "stream",
          "name": "stdout",
          "text": [
            "(20000,)\n",
            "(5000,)\n"
          ]
        }
      ]
    },
    {
      "cell_type": "code",
      "source": [
        "# Dealing with the samples\n",
        "sampled_mus = train_y_hat[:, 0, :]\n",
        "mean_mus = sampled_mus.mean(axis=-1)\n",
        "noises = np.exp(train_y_hat[:, 0, :])\n",
        "\n",
        "# calculating different uncertainties\n",
        "aleatoric = (noises**2).mean(axis=-1)**0.5\n",
        "epistemic = (sampled_mus.std(axis=-1))"
      ],
      "metadata": {
        "id": "G3vrprMdC7_H"
      },
      "execution_count": 19,
      "outputs": []
    },
    {
      "cell_type": "code",
      "source": [
        "upper_ep = mean_mus + epistemic\n",
        "lower_ep = mean_mus - epistemic\n",
        "upper_total = mean_mus + aleatoric  # + 1 sigma\n",
        "lower_total = mean_mus - aleatoric  # - 1 sigma\n",
        "\n",
        "plt.figure(figsize=(10,6))\n",
        "plt.plot(train_x_, mean_mus, lw=3, color='tab:blue', alpha=.8, label='mean of means $\\mu$')\n",
        "plt.fill_between(train_x_.flatten(), lower_ep, upper_ep, alpha=.3, color='tab:blue', label='Epistemic uncertainty')\n",
        "plt.fill_between(train_x_.flatten(), lower_total, upper_total, alpha=.3, color='grey', label='Aleatoric uncertainty ($\\mu +/- 2\\sigma$)')\n",
        "plt.legend();"
      ],
      "metadata": {
        "colab": {
          "base_uri": "https://localhost:8080/",
          "height": 374
        },
        "id": "V4gAZSPNC-P0",
        "outputId": "9dbcc93c-d729-4539-ba09-f1b8a5b68422"
      },
      "execution_count": 20,
      "outputs": [
        {
          "output_type": "display_data",
          "data": {
            "text/plain": [
              "<Figure size 720x432 with 1 Axes>"
            ],
            "image/png": "[encoded data removed]"
          },
          "metadata": {
            "needs_background": "light"
          }
        }
      ]
    }
  ]
}